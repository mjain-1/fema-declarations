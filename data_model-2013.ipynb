{
 "cells": [
  {
   "cell_type": "code",
   "execution_count": 145,
   "metadata": {
    "collapsed": true
   },
   "outputs": [],
   "source": [
    "import numpy as np\n",
    "import pandas as pd\n",
    "import statsmodels.api as sm\n",
    "import matplotlib.pyplot as plt\n",
    "from patsy import dmatrices\n",
    "from sklearn.cross_validation import train_test_split\n",
    "import seaborn as sns\n",
    "%matplotlib inline"
   ]
  },
  {
   "cell_type": "code",
   "execution_count": 3,
   "metadata": {
    "collapsed": false
   },
   "outputs": [],
   "source": [
    "data = pd.read_csv('df_final.csv', index_col=0)\n",
    "data_2013 = pd.read_csv('df_final_2013.csv', index_col = 0)"
   ]
  },
  {
   "cell_type": "markdown",
   "metadata": {},
   "source": [
    "## Create dataset."
   ]
  },
  {
   "cell_type": "code",
   "execution_count": 4,
   "metadata": {
    "collapsed": false
   },
   "outputs": [
    {
     "data": {
      "text/plain": [
       "Index(['UNIQUE_ID', 'BEGIN_YEARMONTH', 'DAY', 'END_YEARMONTH', 'END_DAY',\n",
       "       'EPISODE_ID', 'EVENT_ID', 'STATE', 'STATE_FIPS', 'YEAR', 'MONTH_NAME',\n",
       "       'EVENT_TYPE', 'CZ_TYPE', 'CZ_FIPS', 'CZ_NAME', 'INJURIES_DIRECT',\n",
       "       'INJURIES_INDIRECT', 'DEATHS_DIRECT', 'DEATHS_INDIRECT', 'FIPS',\n",
       "       'LatLng', 'State', 'County', '% Severe Housing Problems',\n",
       "       '% Non-Hispanic White', '% Minority', '% Rural', 'GeoName', '2014',\n",
       "       'Disaster Type', 'DURATION', 'coop_id', 'MONTH', 'MONTH_DAY_x', 'PRCP',\n",
       "       'SNOW', 'SNWD', 'TMAX', 'TMIN', 'MONTH_DAY_y', 'AVG_TEMP', 'AVG_PRCP',\n",
       "       'AVG_SNOW', 'AVG_TEMP_EVENT', 'TOTAL_PRCP', 'TOTAL_SNOW'],\n",
       "      dtype='object')"
      ]
     },
     "execution_count": 4,
     "metadata": {},
     "output_type": "execute_result"
    }
   ],
   "source": [
    "data.columns"
   ]
  },
  {
   "cell_type": "code",
   "execution_count": 5,
   "metadata": {
    "collapsed": false
   },
   "outputs": [
    {
     "data": {
      "text/plain": [
       "Index(['UNIQUE_ID', 'BEGIN_YEARMONTH', 'DAY', 'END_YEARMONTH', 'END_DAY',\n",
       "       'EPISODE_ID', 'EVENT_ID', 'STATE', 'STATE_FIPS', 'YEAR', 'MONTH_NAME',\n",
       "       'EVENT_TYPE', 'CZ_TYPE', 'CZ_FIPS', 'CZ_NAME', 'INJURIES_DIRECT',\n",
       "       'INJURIES_INDIRECT', 'DEATHS_DIRECT', 'DEATHS_INDIRECT', 'FIPS',\n",
       "       'LatLng', 'State', 'County', '% Severe Housing Problems',\n",
       "       '% Non-Hispanic White', '% Minority', '% Rural', 'GeoName', '2013',\n",
       "       'Disaster Type', 'DURATION', 'coop_id', 'MONTH', 'PRCP', 'SNOW', 'SNWD',\n",
       "       'TMAX', 'TMIN', 'AVG_TEMP', 'AVG_PRCP', 'AVG_SNOW', 'AVG_TEMP_EVENT',\n",
       "       'TOTAL_PRCP', 'TOTAL_SNOW'],\n",
       "      dtype='object')"
      ]
     },
     "execution_count": 5,
     "metadata": {},
     "output_type": "execute_result"
    }
   ],
   "source": [
    "data_2013.columns"
   ]
  },
  {
   "cell_type": "code",
   "execution_count": 6,
   "metadata": {
    "collapsed": true
   },
   "outputs": [],
   "source": [
    "data.rename(columns = {'2014': 'PERCAPITA_INCOME'}, inplace = True)\n",
    "data_2013.rename(columns = {'2013': 'PERCAPITA_INCOME'}, inplace = True)"
   ]
  },
  {
   "cell_type": "code",
   "execution_count": 284,
   "metadata": {
    "collapsed": true
   },
   "outputs": [],
   "source": [
    "data_concat = pd.concat(objs = [data, data_2013], ignore_index = True)"
   ]
  },
  {
   "cell_type": "code",
   "execution_count": 8,
   "metadata": {
    "collapsed": false
   },
   "outputs": [],
   "source": [
    "data_dummies = pd.get_dummies(data_concat, columns = ['EVENT_TYPE'])"
   ]
  },
  {
   "cell_type": "code",
   "execution_count": 9,
   "metadata": {
    "collapsed": false
   },
   "outputs": [
    {
     "data": {
      "text/plain": [
       "Index(['% Minority', '% Non-Hispanic White', '% Rural',\n",
       "       '% Severe Housing Problems', 'AVG_PRCP', 'AVG_SNOW', 'AVG_TEMP',\n",
       "       'AVG_TEMP_EVENT', 'BEGIN_YEARMONTH', 'CZ_FIPS', 'CZ_NAME', 'CZ_TYPE',\n",
       "       'County', 'DAY', 'DEATHS_DIRECT', 'DEATHS_INDIRECT', 'DURATION',\n",
       "       'Disaster Type', 'END_DAY', 'END_YEARMONTH', 'EPISODE_ID', 'EVENT_ID',\n",
       "       'FIPS', 'GeoName', 'INJURIES_DIRECT', 'INJURIES_INDIRECT', 'LatLng',\n",
       "       'MONTH', 'MONTH_DAY_x', 'MONTH_DAY_y', 'MONTH_NAME', 'PERCAPITA_INCOME',\n",
       "       'PRCP', 'SNOW', 'SNWD', 'STATE', 'STATE_FIPS', 'State', 'TMAX', 'TMIN',\n",
       "       'TOTAL_PRCP', 'TOTAL_SNOW', 'UNIQUE_ID', 'YEAR', 'coop_id',\n",
       "       'EVENT_TYPE_Debris Flow', 'EVENT_TYPE_Dense Fog', 'EVENT_TYPE_Drought',\n",
       "       'EVENT_TYPE_Dust Devil', 'EVENT_TYPE_Flash Flood', 'EVENT_TYPE_Flood',\n",
       "       'EVENT_TYPE_Funnel Cloud', 'EVENT_TYPE_Hail', 'EVENT_TYPE_Heavy Rain',\n",
       "       'EVENT_TYPE_High Wind', 'EVENT_TYPE_Lightning',\n",
       "       'EVENT_TYPE_Thunderstorm Wind', 'EVENT_TYPE_Tornado'],\n",
       "      dtype='object')"
      ]
     },
     "execution_count": 9,
     "metadata": {},
     "output_type": "execute_result"
    }
   ],
   "source": [
    "data_dummies.columns"
   ]
  },
  {
   "cell_type": "code",
   "execution_count": 10,
   "metadata": {
    "collapsed": true
   },
   "outputs": [],
   "source": [
    "data_dummies.loc[data_dummies['Disaster Type'].notnull(), 'Disaster Type'] = 1\n",
    "data_dummies.loc[data_dummies['Disaster Type'].isnull(), 'Disaster Type'] = 0\n",
    "data_dummies.rename(columns = {'Disaster Type': 'FEMA_DECLARED'}, inplace = True)"
   ]
  },
  {
   "cell_type": "code",
   "execution_count": 11,
   "metadata": {
    "collapsed": false
   },
   "outputs": [
    {
     "data": {
      "text/plain": [
       "51770"
      ]
     },
     "execution_count": 11,
     "metadata": {},
     "output_type": "execute_result"
    }
   ],
   "source": [
    "len(data_dummies)"
   ]
  },
  {
   "cell_type": "code",
   "execution_count": 266,
   "metadata": {
    "collapsed": false
   },
   "outputs": [],
   "source": [
    "data_check = data_dummies.drop_duplicates(subset = ['FIPS', 'EPISODE_ID', 'FEMA_DECLARED'])"
   ]
  },
  {
   "cell_type": "code",
   "execution_count": 185,
   "metadata": {
    "collapsed": false
   },
   "outputs": [
    {
     "data": {
      "text/plain": [
       "25965"
      ]
     },
     "execution_count": 185,
     "metadata": {},
     "output_type": "execute_result"
    }
   ],
   "source": [
    "len(data_check)"
   ]
  },
  {
   "cell_type": "code",
   "execution_count": 14,
   "metadata": {
    "collapsed": false
   },
   "outputs": [
    {
     "data": {
      "text/plain": [
       "561"
      ]
     },
     "execution_count": 14,
     "metadata": {},
     "output_type": "execute_result"
    }
   ],
   "source": [
    "len(data_check[data_check['FEMA_DECLARED'] == 1])"
   ]
  },
  {
   "cell_type": "code",
   "execution_count": 285,
   "metadata": {
    "collapsed": false
   },
   "outputs": [],
   "source": [
    "data_concat.loc[data_concat['Disaster Type'].notnull(), 'Disaster Type'] = 1\n",
    "data_concat.loc[data_concat['Disaster Type'].isnull(), 'Disaster Type'] = 0\n",
    "data_concat.rename(columns = {'Disaster Type': 'FEMA_DECLARED'}, inplace = True)\n",
    "data_concat = data_concat.drop_duplicates(subset = ['FIPS', 'EPISODE_ID', 'FEMA_DECLARED'])"
   ]
  },
  {
   "cell_type": "code",
   "execution_count": 286,
   "metadata": {
    "collapsed": false
   },
   "outputs": [
    {
     "data": {
      "text/plain": [
       "count     25965\n",
       "unique        2\n",
       "top           0\n",
       "freq      25404\n",
       "Name: FEMA_DECLARED, dtype: int64"
      ]
     },
     "execution_count": 286,
     "metadata": {},
     "output_type": "execute_result"
    }
   ],
   "source": [
    "data_concat['FEMA_DECLARED'].describe()"
   ]
  },
  {
   "cell_type": "code",
   "execution_count": null,
   "metadata": {
    "collapsed": true
   },
   "outputs": [],
   "source": []
  },
  {
   "cell_type": "markdown",
   "metadata": {},
   "source": [
    "## Explore dataset."
   ]
  },
  {
   "cell_type": "code",
   "execution_count": 15,
   "metadata": {
    "collapsed": false
   },
   "outputs": [
    {
     "name": "stderr",
     "output_type": "stream",
     "text": [
      "/Users/meghajain/anaconda/lib/python3.5/site-packages/pandas/core/frame.py:2762: SettingWithCopyWarning: \n",
      "A value is trying to be set on a copy of a slice from a DataFrame\n",
      "\n",
      "See the caveats in the documentation: http://pandas.pydata.org/pandas-docs/stable/indexing.html#indexing-view-versus-copy\n",
      "  downcast=downcast, **kwargs)\n"
     ]
    }
   ],
   "source": [
    "data_check.fillna(0, inplace=True)"
   ]
  },
  {
   "cell_type": "code",
   "execution_count": 16,
   "metadata": {
    "collapsed": false
   },
   "outputs": [
    {
     "data": {
      "text/html": [
       "<div>\n",
       "<table border=\"1\" class=\"dataframe\">\n",
       "  <thead>\n",
       "    <tr style=\"text-align: right;\">\n",
       "      <th></th>\n",
       "      <th>% Minority</th>\n",
       "      <th>% Non-Hispanic White</th>\n",
       "      <th>% Rural</th>\n",
       "      <th>% Severe Housing Problems</th>\n",
       "      <th>AVG_PRCP</th>\n",
       "      <th>AVG_SNOW</th>\n",
       "      <th>AVG_TEMP</th>\n",
       "      <th>AVG_TEMP_EVENT</th>\n",
       "      <th>BEGIN_YEARMONTH</th>\n",
       "      <th>CZ_FIPS</th>\n",
       "      <th>...</th>\n",
       "      <th>EVENT_TYPE_Dust Devil</th>\n",
       "      <th>EVENT_TYPE_Flash Flood</th>\n",
       "      <th>EVENT_TYPE_Flood</th>\n",
       "      <th>EVENT_TYPE_Funnel Cloud</th>\n",
       "      <th>EVENT_TYPE_Hail</th>\n",
       "      <th>EVENT_TYPE_Heavy Rain</th>\n",
       "      <th>EVENT_TYPE_High Wind</th>\n",
       "      <th>EVENT_TYPE_Lightning</th>\n",
       "      <th>EVENT_TYPE_Thunderstorm Wind</th>\n",
       "      <th>EVENT_TYPE_Tornado</th>\n",
       "    </tr>\n",
       "    <tr>\n",
       "      <th>FEMA_DECLARED</th>\n",
       "      <th></th>\n",
       "      <th></th>\n",
       "      <th></th>\n",
       "      <th></th>\n",
       "      <th></th>\n",
       "      <th></th>\n",
       "      <th></th>\n",
       "      <th></th>\n",
       "      <th></th>\n",
       "      <th></th>\n",
       "      <th></th>\n",
       "      <th></th>\n",
       "      <th></th>\n",
       "      <th></th>\n",
       "      <th></th>\n",
       "      <th></th>\n",
       "      <th></th>\n",
       "      <th></th>\n",
       "      <th></th>\n",
       "      <th></th>\n",
       "      <th></th>\n",
       "    </tr>\n",
       "  </thead>\n",
       "  <tbody>\n",
       "    <tr>\n",
       "      <th>0</th>\n",
       "      <td>25404</td>\n",
       "      <td>25404</td>\n",
       "      <td>25404</td>\n",
       "      <td>25404</td>\n",
       "      <td>25404</td>\n",
       "      <td>25404</td>\n",
       "      <td>25404</td>\n",
       "      <td>25404</td>\n",
       "      <td>25404</td>\n",
       "      <td>25404</td>\n",
       "      <td>...</td>\n",
       "      <td>25404</td>\n",
       "      <td>25404</td>\n",
       "      <td>25404</td>\n",
       "      <td>25404</td>\n",
       "      <td>25404</td>\n",
       "      <td>25404</td>\n",
       "      <td>25404</td>\n",
       "      <td>25404</td>\n",
       "      <td>25404</td>\n",
       "      <td>25404</td>\n",
       "    </tr>\n",
       "    <tr>\n",
       "      <th>1</th>\n",
       "      <td>561</td>\n",
       "      <td>561</td>\n",
       "      <td>561</td>\n",
       "      <td>561</td>\n",
       "      <td>561</td>\n",
       "      <td>561</td>\n",
       "      <td>561</td>\n",
       "      <td>561</td>\n",
       "      <td>561</td>\n",
       "      <td>561</td>\n",
       "      <td>...</td>\n",
       "      <td>561</td>\n",
       "      <td>561</td>\n",
       "      <td>561</td>\n",
       "      <td>561</td>\n",
       "      <td>561</td>\n",
       "      <td>561</td>\n",
       "      <td>561</td>\n",
       "      <td>561</td>\n",
       "      <td>561</td>\n",
       "      <td>561</td>\n",
       "    </tr>\n",
       "  </tbody>\n",
       "</table>\n",
       "<p>2 rows × 57 columns</p>\n",
       "</div>"
      ],
      "text/plain": [
       "               % Minority  % Non-Hispanic White  % Rural  \\\n",
       "FEMA_DECLARED                                              \n",
       "0                   25404                 25404    25404   \n",
       "1                     561                   561      561   \n",
       "\n",
       "               % Severe Housing Problems  AVG_PRCP  AVG_SNOW  AVG_TEMP  \\\n",
       "FEMA_DECLARED                                                            \n",
       "0                                  25404     25404     25404     25404   \n",
       "1                                    561       561       561       561   \n",
       "\n",
       "               AVG_TEMP_EVENT  BEGIN_YEARMONTH  CZ_FIPS         ...          \\\n",
       "FEMA_DECLARED                                                   ...           \n",
       "0                       25404            25404    25404         ...           \n",
       "1                         561              561      561         ...           \n",
       "\n",
       "               EVENT_TYPE_Dust Devil  EVENT_TYPE_Flash Flood  \\\n",
       "FEMA_DECLARED                                                  \n",
       "0                              25404                   25404   \n",
       "1                                561                     561   \n",
       "\n",
       "               EVENT_TYPE_Flood  EVENT_TYPE_Funnel Cloud  EVENT_TYPE_Hail  \\\n",
       "FEMA_DECLARED                                                               \n",
       "0                         25404                    25404            25404   \n",
       "1                           561                      561              561   \n",
       "\n",
       "               EVENT_TYPE_Heavy Rain  EVENT_TYPE_High Wind  \\\n",
       "FEMA_DECLARED                                                \n",
       "0                              25404                 25404   \n",
       "1                                561                   561   \n",
       "\n",
       "               EVENT_TYPE_Lightning  EVENT_TYPE_Thunderstorm Wind  \\\n",
       "FEMA_DECLARED                                                       \n",
       "0                             25404                         25404   \n",
       "1                               561                           561   \n",
       "\n",
       "               EVENT_TYPE_Tornado  \n",
       "FEMA_DECLARED                      \n",
       "0                           25404  \n",
       "1                             561  \n",
       "\n",
       "[2 rows x 57 columns]"
      ]
     },
     "execution_count": 16,
     "metadata": {},
     "output_type": "execute_result"
    }
   ],
   "source": [
    "data_check.groupby(by = ['FEMA_DECLARED']).count()"
   ]
  },
  {
   "cell_type": "code",
   "execution_count": 12,
   "metadata": {
    "collapsed": false
   },
   "outputs": [
    {
     "data": {
      "text/plain": [
       "(0, 2000.0)"
      ]
     },
     "execution_count": 12,
     "metadata": {},
     "output_type": "execute_result"
    },
    {
     "data": {
      "image/png": "[encoded data removed]",
      "text/plain": [
       "<matplotlib.figure.Figure at 0x119bf3d30>"
      ]
     },
     "metadata": {},
     "output_type": "display_data"
    }
   ],
   "source": [
    "plt.scatter(data_check['AVG_PRCP'], data_check['PERCAPITA_INCOME'])\n",
    "plt.xlim(0)"
   ]
  },
  {
   "cell_type": "code",
   "execution_count": 146,
   "metadata": {
    "collapsed": false
   },
   "outputs": [
    {
     "data": {
      "text/html": [
       "<div>\n",
       "<table border=\"1\" class=\"dataframe\">\n",
       "  <thead>\n",
       "    <tr style=\"text-align: right;\">\n",
       "      <th></th>\n",
       "      <th>% Minority</th>\n",
       "      <th>% Non-Hispanic White</th>\n",
       "      <th>% Rural</th>\n",
       "      <th>% Severe Housing Problems</th>\n",
       "      <th>AVG_PRCP</th>\n",
       "      <th>AVG_SNOW</th>\n",
       "      <th>AVG_TEMP</th>\n",
       "      <th>AVG_TEMP_EVENT</th>\n",
       "      <th>BEGIN_YEARMONTH</th>\n",
       "      <th>CZ_FIPS</th>\n",
       "      <th>...</th>\n",
       "      <th>EVENT_TYPE_Dust Devil</th>\n",
       "      <th>EVENT_TYPE_Flash Flood</th>\n",
       "      <th>EVENT_TYPE_Flood</th>\n",
       "      <th>EVENT_TYPE_Funnel Cloud</th>\n",
       "      <th>EVENT_TYPE_Hail</th>\n",
       "      <th>EVENT_TYPE_Heavy Rain</th>\n",
       "      <th>EVENT_TYPE_High Wind</th>\n",
       "      <th>EVENT_TYPE_Lightning</th>\n",
       "      <th>EVENT_TYPE_Thunderstorm Wind</th>\n",
       "      <th>EVENT_TYPE_Tornado</th>\n",
       "    </tr>\n",
       "    <tr>\n",
       "      <th>FEMA_DECLARED</th>\n",
       "      <th></th>\n",
       "      <th></th>\n",
       "      <th></th>\n",
       "      <th></th>\n",
       "      <th></th>\n",
       "      <th></th>\n",
       "      <th></th>\n",
       "      <th></th>\n",
       "      <th></th>\n",
       "      <th></th>\n",
       "      <th></th>\n",
       "      <th></th>\n",
       "      <th></th>\n",
       "      <th></th>\n",
       "      <th></th>\n",
       "      <th></th>\n",
       "      <th></th>\n",
       "      <th></th>\n",
       "      <th></th>\n",
       "      <th></th>\n",
       "      <th></th>\n",
       "    </tr>\n",
       "  </thead>\n",
       "  <tbody>\n",
       "    <tr>\n",
       "      <th>0</th>\n",
       "      <td>22.582829</td>\n",
       "      <td>77.417174</td>\n",
       "      <td>53.042796</td>\n",
       "      <td>14.244686</td>\n",
       "      <td>42.453134</td>\n",
       "      <td>0.290792</td>\n",
       "      <td>69.722336</td>\n",
       "      <td>69.722336</td>\n",
       "      <td>201355.093568</td>\n",
       "      <td>94.660054</td>\n",
       "      <td>...</td>\n",
       "      <td>0.000472</td>\n",
       "      <td>0.115966</td>\n",
       "      <td>0.073296</td>\n",
       "      <td>0.013620</td>\n",
       "      <td>0.268619</td>\n",
       "      <td>0.043458</td>\n",
       "      <td>0.000079</td>\n",
       "      <td>0.019761</td>\n",
       "      <td>0.431153</td>\n",
       "      <td>0.031019</td>\n",
       "    </tr>\n",
       "    <tr>\n",
       "      <th>1</th>\n",
       "      <td>14.762745</td>\n",
       "      <td>85.237255</td>\n",
       "      <td>57.994831</td>\n",
       "      <td>12.524064</td>\n",
       "      <td>97.118712</td>\n",
       "      <td>0.256790</td>\n",
       "      <td>66.531408</td>\n",
       "      <td>66.531408</td>\n",
       "      <td>201349.053476</td>\n",
       "      <td>145.882353</td>\n",
       "      <td>...</td>\n",
       "      <td>0.000000</td>\n",
       "      <td>0.194296</td>\n",
       "      <td>0.222816</td>\n",
       "      <td>0.003565</td>\n",
       "      <td>0.176471</td>\n",
       "      <td>0.078431</td>\n",
       "      <td>0.000000</td>\n",
       "      <td>0.005348</td>\n",
       "      <td>0.267380</td>\n",
       "      <td>0.049911</td>\n",
       "    </tr>\n",
       "  </tbody>\n",
       "</table>\n",
       "<p>2 rows × 47 columns</p>\n",
       "</div>"
      ],
      "text/plain": [
       "               % Minority  % Non-Hispanic White    % Rural  \\\n",
       "FEMA_DECLARED                                                \n",
       "0               22.582829             77.417174  53.042796   \n",
       "1               14.762745             85.237255  57.994831   \n",
       "\n",
       "               % Severe Housing Problems   AVG_PRCP  AVG_SNOW   AVG_TEMP  \\\n",
       "FEMA_DECLARED                                                              \n",
       "0                              14.244686  42.453134  0.290792  69.722336   \n",
       "1                              12.524064  97.118712  0.256790  66.531408   \n",
       "\n",
       "               AVG_TEMP_EVENT  BEGIN_YEARMONTH     CZ_FIPS  \\\n",
       "FEMA_DECLARED                                                \n",
       "0                   69.722336    201355.093568   94.660054   \n",
       "1                   66.531408    201349.053476  145.882353   \n",
       "\n",
       "                      ...          EVENT_TYPE_Dust Devil  \\\n",
       "FEMA_DECLARED         ...                                  \n",
       "0                     ...                       0.000472   \n",
       "1                     ...                       0.000000   \n",
       "\n",
       "               EVENT_TYPE_Flash Flood  EVENT_TYPE_Flood  \\\n",
       "FEMA_DECLARED                                             \n",
       "0                            0.115966          0.073296   \n",
       "1                            0.194296          0.222816   \n",
       "\n",
       "               EVENT_TYPE_Funnel Cloud  EVENT_TYPE_Hail  \\\n",
       "FEMA_DECLARED                                             \n",
       "0                             0.013620         0.268619   \n",
       "1                             0.003565         0.176471   \n",
       "\n",
       "               EVENT_TYPE_Heavy Rain  EVENT_TYPE_High Wind  \\\n",
       "FEMA_DECLARED                                                \n",
       "0                           0.043458              0.000079   \n",
       "1                           0.078431              0.000000   \n",
       "\n",
       "               EVENT_TYPE_Lightning  EVENT_TYPE_Thunderstorm Wind  \\\n",
       "FEMA_DECLARED                                                       \n",
       "0                          0.019761                      0.431153   \n",
       "1                          0.005348                      0.267380   \n",
       "\n",
       "               EVENT_TYPE_Tornado  \n",
       "FEMA_DECLARED                      \n",
       "0                        0.031019  \n",
       "1                        0.049911  \n",
       "\n",
       "[2 rows x 47 columns]"
      ]
     },
     "execution_count": 146,
     "metadata": {},
     "output_type": "execute_result"
    }
   ],
   "source": [
    "data_check.groupby(by = ['FEMA_DECLARED']).mean()"
   ]
  },
  {
   "cell_type": "code",
   "execution_count": 424,
   "metadata": {
    "collapsed": false
   },
   "outputs": [
    {
     "data": {
      "text/html": [
       "<div>\n",
       "<table border=\"1\" class=\"dataframe\">\n",
       "  <thead>\n",
       "    <tr style=\"text-align: right;\">\n",
       "      <th></th>\n",
       "      <th>CZ_NAME</th>\n",
       "      <th>STATE</th>\n",
       "      <th>EPISODE_ID</th>\n",
       "      <th>BEGIN_YEARMONTH</th>\n",
       "      <th>PERCAPITA_INCOME</th>\n",
       "      <th>% Severe Housing Problems</th>\n",
       "      <th>% Minority</th>\n",
       "      <th>FEMA_DECLARED</th>\n",
       "      <th>AVG_PRCP</th>\n",
       "      <th>coop_id</th>\n",
       "    </tr>\n",
       "  </thead>\n",
       "  <tbody>\n",
       "    <tr>\n",
       "      <th>2909</th>\n",
       "      <td>ESCAMBIA</td>\n",
       "      <td>FL</td>\n",
       "      <td>85150</td>\n",
       "      <td>201404</td>\n",
       "      <td>36632.0</td>\n",
       "      <td>19</td>\n",
       "      <td>34.5</td>\n",
       "      <td>0</td>\n",
       "      <td>1555.0</td>\n",
       "      <td>86997.0</td>\n",
       "    </tr>\n",
       "    <tr>\n",
       "      <th>3256</th>\n",
       "      <td>OKALOOSA</td>\n",
       "      <td>FL</td>\n",
       "      <td>85150</td>\n",
       "      <td>201404</td>\n",
       "      <td>44695.0</td>\n",
       "      <td>18</td>\n",
       "      <td>25.3</td>\n",
       "      <td>0</td>\n",
       "      <td>1555.0</td>\n",
       "      <td>86997.0</td>\n",
       "    </tr>\n",
       "    <tr>\n",
       "      <th>3367</th>\n",
       "      <td>SANTA ROSA</td>\n",
       "      <td>FL</td>\n",
       "      <td>85150</td>\n",
       "      <td>201404</td>\n",
       "      <td>37610.0</td>\n",
       "      <td>14</td>\n",
       "      <td>17.2</td>\n",
       "      <td>1</td>\n",
       "      <td>1555.0</td>\n",
       "      <td>86997.0</td>\n",
       "    </tr>\n",
       "  </tbody>\n",
       "</table>\n",
       "</div>"
      ],
      "text/plain": [
       "         CZ_NAME STATE  EPISODE_ID  BEGIN_YEARMONTH  PERCAPITA_INCOME  \\\n",
       "2909    ESCAMBIA    FL       85150           201404           36632.0   \n",
       "3256    OKALOOSA    FL       85150           201404           44695.0   \n",
       "3367  SANTA ROSA    FL       85150           201404           37610.0   \n",
       "\n",
       "      % Severe Housing Problems  % Minority FEMA_DECLARED  AVG_PRCP  coop_id  \n",
       "2909                         19        34.5             0    1555.0  86997.0  \n",
       "3256                         18        25.3             0    1555.0  86997.0  \n",
       "3367                         14        17.2             1    1555.0  86997.0  "
      ]
     },
     "execution_count": 424,
     "metadata": {},
     "output_type": "execute_result"
    }
   ],
   "source": [
    "#checking out the outlier for avg prcp, and research shows that there was a heavy storm with around that amt of precipitation\n",
    "data_check[data_check['AVG_PRCP'] > 1000][['CZ_NAME', 'STATE', 'EPISODE_ID', 'BEGIN_YEARMONTH', 'PERCAPITA_INCOME', '% Severe Housing Problems', '% Minority', 'FEMA_DECLARED', 'AVG_PRCP', 'coop_id']]"
   ]
  },
  {
   "cell_type": "code",
   "execution_count": 256,
   "metadata": {
    "collapsed": false
   },
   "outputs": [
    {
     "data": {
      "text/plain": [
       "count    25962.000000\n",
       "mean        43.459595\n",
       "std         81.750427\n",
       "min          0.000000\n",
       "25%          0.000000\n",
       "50%          5.000000\n",
       "75%         52.000000\n",
       "max        987.000000\n",
       "Name: AVG_PRCP, dtype: float64"
      ]
     },
     "execution_count": 256,
     "metadata": {},
     "output_type": "execute_result"
    }
   ],
   "source": [
    "data_check['AVG_PRCP'].describe()"
   ]
  },
  {
   "cell_type": "code",
   "execution_count": 195,
   "metadata": {
    "collapsed": true
   },
   "outputs": [],
   "source": [
    "data_fema = data_check[data_check['FEMA_DECLARED'] == 1]\n",
    "data_norm = data_check[data_check['FEMA_DECLARED'] == 0]"
   ]
  },
  {
   "cell_type": "code",
   "execution_count": 350,
   "metadata": {
    "collapsed": false
   },
   "outputs": [
    {
     "name": "stderr",
     "output_type": "stream",
     "text": [
      "/Users/meghajain/anaconda/lib/python3.5/site-packages/statsmodels/nonparametric/kdetools.py:20: VisibleDeprecationWarning: using a non-integer number instead of an integer will result in an error in the future\n",
      "  y = X[:m/2+1] + np.r_[0,X[m/2+1:],0]*1j\n"
     ]
    },
    {
     "data": {
      "image/png": "[encoded data removed]",
      "text/plain": [
       "<matplotlib.figure.Figure at 0x131455e80>"
      ]
     },
     "metadata": {},
     "output_type": "display_data"
    }
   ],
   "source": [
    "fig, ax = plt.subplots(1)\n",
    "sns.kdeplot(data_norm['PERCAPITA_INCOME'], shade= True, color = '#003FB2', ax = ax, label = 'Not Declared')\n",
    "sns.kdeplot(data_fema['PERCAPITA_INCOME'], shade = True, color = '#FFAF02', bw = 4000, ax = ax, label = 'FEMA Declared')\n",
    "ax.set_title(\"Comparison of Income per Capita\")\n",
    "ax.set_xlabel(\"Income\")\n",
    "ax.set_ylabel(\"Frequency\")\n",
    "fig.set_size_inches(10, 8);"
   ]
  },
  {
   "cell_type": "code",
   "execution_count": 358,
   "metadata": {
    "collapsed": false
   },
   "outputs": [
    {
     "name": "stderr",
     "output_type": "stream",
     "text": [
      "/Users/meghajain/anaconda/lib/python3.5/site-packages/statsmodels/nonparametric/kdetools.py:20: VisibleDeprecationWarning: using a non-integer number instead of an integer will result in an error in the future\n",
      "  y = X[:m/2+1] + np.r_[0,X[m/2+1:],0]*1j\n"
     ]
    },
    {
     "data": {
      "image/png": "[encoded data removed]",
      "text/plain": [
       "<matplotlib.figure.Figure at 0x1327cc748>"
      ]
     },
     "metadata": {},
     "output_type": "display_data"
    }
   ],
   "source": [
    "fig, ax1 = plt.subplots(1)\n",
    "\n",
    "sns.kdeplot(data_norm['AVG_PRCP'], shade= True, color = '#003FB2', ax = ax1, label = 'Not Declared', cut = 0)\n",
    "sns.kdeplot(data_fema['AVG_PRCP'], shade = True, color = '#FFAF02', ax = ax1, label = 'FEMA Declared', cut = 0)\n",
    "ax1.set_title(\"Comparison of Average Precipitation\")\n",
    "ax1.set_xlabel(\"Precipitation (Hundredths of an Inch)\")\n",
    "ax1.set_ylabel(\"Frequency\")\n",
    "fig.set_size_inches(10, 8);"
   ]
  },
  {
   "cell_type": "code",
   "execution_count": 354,
   "metadata": {
    "collapsed": false
   },
   "outputs": [
    {
     "name": "stderr",
     "output_type": "stream",
     "text": [
      "/Users/meghajain/anaconda/lib/python3.5/site-packages/statsmodels/nonparametric/kdetools.py:20: VisibleDeprecationWarning: using a non-integer number instead of an integer will result in an error in the future\n",
      "  y = X[:m/2+1] + np.r_[0,X[m/2+1:],0]*1j\n"
     ]
    },
    {
     "data": {
      "image/png": "[encoded data removed]",
      "text/plain": [
       "<matplotlib.figure.Figure at 0x1314fbeb8>"
      ]
     },
     "metadata": {},
     "output_type": "display_data"
    }
   ],
   "source": [
    "fig, ax2 = plt.subplots(1)\n",
    "\n",
    "sns.kdeplot(data_norm['% Minority'], shade= True, color = '#003FB2', ax = ax2, label = 'Not Declared', cut = 3);\n",
    "sns.kdeplot(data_fema['% Minority'], shade = True, color = '#FFAF02', ax = ax2, label = 'FEMA Declared', cut = 3);"
   ]
  },
  {
   "cell_type": "code",
   "execution_count": 255,
   "metadata": {
    "collapsed": false
   },
   "outputs": [
    {
     "data": {
      "text/plain": [
       "(0, 200000)"
      ]
     },
     "execution_count": 255,
     "metadata": {},
     "output_type": "execute_result"
    },
    {
     "data": {
      "image/png": "[encoded data removed]",
      "text/plain": [
       "<matplotlib.figure.Figure at 0x1201cf588>"
      ]
     },
     "metadata": {},
     "output_type": "display_data"
    }
   ],
   "source": [
    "lm = sns.lmplot('% Minority', 'PERCAPITA_INCOME', data = data_check, hue = 'FEMA_DECLARED', fit_reg = False, aspect = 1.2)\n",
    "axes = lm.axes\n",
    "axes[0,0].set_xlim(-1,)\n",
    "axes[0,0].set_ylim(0,200000)"
   ]
  },
  {
   "cell_type": "code",
   "execution_count": 301,
   "metadata": {
    "collapsed": false
   },
   "outputs": [
    {
     "data": {
      "text/plain": [
       "(-50, 2000)"
      ]
     },
     "execution_count": 301,
     "metadata": {},
     "output_type": "execute_result"
    },
    {
     "data": {
      "image/png": "[encoded data removed]",
      "text/plain": [
       "<matplotlib.figure.Figure at 0x127456d30>"
      ]
     },
     "metadata": {},
     "output_type": "display_data"
    }
   ],
   "source": [
    "lm = sns.lmplot('% Minority', 'AVG_PRCP', data = data_concat, hue = 'FEMA_DECLARED',aspect = 1.2, fit_reg = False)\n",
    "axes = lm.axes\n",
    "axes[0,0].set_xlim(-2,)\n",
    "axes[0,0].set_ylim(-50,2000)"
   ]
  },
  {
   "cell_type": "code",
   "execution_count": null,
   "metadata": {
    "collapsed": true
   },
   "outputs": [],
   "source": []
  },
  {
   "cell_type": "code",
   "execution_count": null,
   "metadata": {
    "collapsed": true
   },
   "outputs": [],
   "source": []
  },
  {
   "cell_type": "markdown",
   "metadata": {},
   "source": [
    "## Models"
   ]
  },
  {
   "cell_type": "code",
   "execution_count": 31,
   "metadata": {
    "collapsed": true
   },
   "outputs": [],
   "source": [
    "from sklearn.metrics import accuracy_score, precision_score, recall_score, f1_score\n",
    "from sklearn.grid_search import GridSearchCV\n",
    "from sklearn.linear_model import LogisticRegression\n",
    "from sklearn.ensemble import RandomForestClassifier, GradientBoostingClassifier\n",
    "import sklearn\n",
    "from sklearn import cross_validation\n",
    "from sklearn.metrics import roc_auc_score\n",
    "from sklearn.metrics import roc_curve\n",
    "\n",
    "def pr_curve(truthvec, scorevec, digit_prec=2):\n",
    "    threshvec = np.unique(np.round(scorevec,digit_prec))\n",
    "    numthresh = len(threshvec)\n",
    "    tpvec = np.zeros(numthresh)\n",
    "    fpvec = np.zeros(numthresh)\n",
    "    fnvec = np.zeros(numthresh)\n",
    "\n",
    "    for i in range(numthresh):\n",
    "        thresh = threshvec[i]\n",
    "        tpvec[i] = sum(truthvec[scorevec>=thresh])\n",
    "        fpvec[i] = sum(1-truthvec[scorevec>=thresh])\n",
    "        fnvec[i] = sum(truthvec[scorevec<thresh])\n",
    "    recallvec = tpvec/(tpvec + fnvec)\n",
    "    precisionvec = tpvec/(tpvec + fpvec)\n",
    "    plt.plot(precisionvec,recallvec)\n",
    "    plt.axis([0, 1, 0, 1])\n",
    "    plt.xlabel(\"Precision\")\n",
    "    plt.ylabel(\"Recall\")\n",
    "    return (recallvec, precisionvec, threshvec)\n",
    "\n",
    "def log_lik_binary(truthvec, probvec):\n",
    "    return np.sum((np.log(probvec)*truthvec) + (np.log(1-probvec)*(1-truthvec)))"
   ]
  },
  {
   "cell_type": "code",
   "execution_count": 58,
   "metadata": {
    "collapsed": false
   },
   "outputs": [],
   "source": [
    "data_full = data_check[['PERCAPITA_INCOME', 'DEATHS_DIRECT', 'EVENT_TYPE_Thunderstorm Wind', 'AVG_PRCP', 'DURATION', 'INJURIES_DIRECT', '% Minority', '% Rural', 'AVG_TEMP_EVENT','AVG_SNOW', 'EVENT_TYPE_Tornado', 'EVENT_TYPE_Flash Flood', 'EVENT_TYPE_Flood', 'FEMA_DECLARED']]\n",
    "data_shuffled = data_full.iloc[np.random.permutation(len(data_full))].reset_index()"
   ]
  },
  {
   "cell_type": "code",
   "execution_count": 26,
   "metadata": {
    "collapsed": true
   },
   "outputs": [],
   "source": [
    "data_shuffled.drop(labels = ['index'], axis = 1, inplace = True)"
   ]
  },
  {
   "cell_type": "code",
   "execution_count": 27,
   "metadata": {
    "collapsed": true
   },
   "outputs": [],
   "source": [
    "data_disasters = data_shuffled[data_shuffled['FEMA_DECLARED'] == 1]\n",
    "data_normal = data_shuffled[data_shuffled['FEMA_DECLARED'] == 0]"
   ]
  },
  {
   "cell_type": "code",
   "execution_count": 28,
   "metadata": {
    "collapsed": true
   },
   "outputs": [],
   "source": [
    "data_normal_test = data_normal.sample(1150)"
   ]
  },
  {
   "cell_type": "code",
   "execution_count": 29,
   "metadata": {
    "collapsed": true
   },
   "outputs": [],
   "source": [
    "data_normal_train = data_normal.sample(1150)"
   ]
  },
  {
   "cell_type": "code",
   "execution_count": 112,
   "metadata": {
    "collapsed": false
   },
   "outputs": [],
   "source": [
    "#training data\n",
    "model_data_train = pd.concat([data_disasters, data_normal_train], ignore_index = True)\n",
    "\n",
    "model_data_train_x = model_data_train[['PERCAPITA_INCOME', 'DEATHS_DIRECT', 'EVENT_TYPE_Thunderstorm Wind', 'AVG_PRCP', 'DURATION', 'INJURIES_DIRECT', '% Minority', '% Rural', 'AVG_TEMP_EVENT','AVG_SNOW', 'EVENT_TYPE_Tornado', 'EVENT_TYPE_Flash Flood', 'EVENT_TYPE_Flood']]\n",
    "model_data_train_y = model_data_train['FEMA_DECLARED']\n",
    "X_train, X_test, y_train, y_test = sklearn.cross_validation.train_test_split(model_data_train_x, model_data_train_y, test_size = 0.3, random_state = 4444)\n",
    "\n",
    "#Variables removed: 'INJURIES_INDIRECT','DEATHS_INDIRECT', "
   ]
  },
  {
   "cell_type": "code",
   "execution_count": 113,
   "metadata": {
    "collapsed": false
   },
   "outputs": [],
   "source": [
    "#testing data\n",
    "model_data_test = pd.concat([data_disasters, data_normal_test], ignore_index = True)\n",
    "\n",
    "model_data_test_x = model_data_test[['PERCAPITA_INCOME', 'DEATHS_DIRECT', 'EVENT_TYPE_Thunderstorm Wind', 'AVG_PRCP', 'DURATION', 'INJURIES_DIRECT', '% Minority', '% Rural', 'AVG_TEMP_EVENT','AVG_SNOW', 'EVENT_TYPE_Tornado', 'EVENT_TYPE_Flash Flood', 'EVENT_TYPE_Flood']]\n",
    "model_data_test_y = model_data_test['FEMA_DECLARED']"
   ]
  },
  {
   "cell_type": "code",
   "execution_count": null,
   "metadata": {
    "collapsed": true
   },
   "outputs": [],
   "source": []
  },
  {
   "cell_type": "code",
   "execution_count": null,
   "metadata": {
    "collapsed": true
   },
   "outputs": [],
   "source": []
  },
  {
   "cell_type": "code",
   "execution_count": 290,
   "metadata": {
    "collapsed": true
   },
   "outputs": [],
   "source": []
  },
  {
   "cell_type": "code",
   "execution_count": null,
   "metadata": {
    "collapsed": true
   },
   "outputs": [],
   "source": []
  },
  {
   "cell_type": "code",
   "execution_count": null,
   "metadata": {
    "collapsed": true
   },
   "outputs": [],
   "source": []
  },
  {
   "cell_type": "markdown",
   "metadata": {},
   "source": [
    "## Logistic Regression"
   ]
  },
  {
   "cell_type": "code",
   "execution_count": 114,
   "metadata": {
    "collapsed": false
   },
   "outputs": [],
   "source": [
    "model_lr = LogisticRegression()"
   ]
  },
  {
   "cell_type": "code",
   "execution_count": 115,
   "metadata": {
    "collapsed": false
   },
   "outputs": [
    {
     "data": {
      "text/plain": [
       "LogisticRegression(C=1.0, class_weight=None, dual=False, fit_intercept=True,\n",
       "          intercept_scaling=1, max_iter=100, multi_class='ovr', n_jobs=1,\n",
       "          penalty='l2', random_state=None, solver='liblinear', tol=0.0001,\n",
       "          verbose=0, warm_start=False)"
      ]
     },
     "execution_count": 115,
     "metadata": {},
     "output_type": "execute_result"
    }
   ],
   "source": [
    "model_lr.fit(X_train, y_train)"
   ]
  },
  {
   "cell_type": "code",
   "execution_count": 116,
   "metadata": {
    "collapsed": false
   },
   "outputs": [
    {
     "data": {
      "text/plain": [
       "0.70622568093385218"
      ]
     },
     "execution_count": 116,
     "metadata": {},
     "output_type": "execute_result"
    }
   ],
   "source": [
    "model_lr.score(X_test, y_test)"
   ]
  },
  {
   "cell_type": "code",
   "execution_count": 117,
   "metadata": {
    "collapsed": false
   },
   "outputs": [
    {
     "data": {
      "image/png": "[encoded data removed]",
      "text/plain": [
       "<matplotlib.figure.Figure at 0x123a67438>"
      ]
     },
     "metadata": {},
     "output_type": "display_data"
    }
   ],
   "source": [
    "lr_pred_mat = model_lr.predict_proba(X_test)\n",
    "lr_pred_vec = lr_pred_mat[:,1]\n",
    "lr_pr=pr_curve(y_test,lr_pred_vec);"
   ]
  },
  {
   "cell_type": "code",
   "execution_count": 118,
   "metadata": {
    "collapsed": false
   },
   "outputs": [
    {
     "data": {
      "text/plain": [
       "0.68288790684624012"
      ]
     },
     "execution_count": 118,
     "metadata": {},
     "output_type": "execute_result"
    }
   ],
   "source": [
    "roc_auc_score(y_test,lr_pred_vec)"
   ]
  },
  {
   "cell_type": "code",
   "execution_count": 119,
   "metadata": {
    "collapsed": false
   },
   "outputs": [
    {
     "data": {
      "text/plain": [
       "0.21604938271604937"
      ]
     },
     "execution_count": 119,
     "metadata": {},
     "output_type": "execute_result"
    }
   ],
   "source": [
    "recall_score(y_test, model_lr.predict(X_test))"
   ]
  },
  {
   "cell_type": "code",
   "execution_count": null,
   "metadata": {
    "collapsed": true
   },
   "outputs": [],
   "source": []
  },
  {
   "cell_type": "code",
   "execution_count": null,
   "metadata": {
    "collapsed": true
   },
   "outputs": [],
   "source": []
  },
  {
   "cell_type": "code",
   "execution_count": null,
   "metadata": {
    "collapsed": true
   },
   "outputs": [],
   "source": []
  },
  {
   "cell_type": "markdown",
   "metadata": {},
   "source": [
    "# Random Forest Classifier"
   ]
  },
  {
   "cell_type": "code",
   "execution_count": 120,
   "metadata": {
    "collapsed": true
   },
   "outputs": [],
   "source": [
    "model_rf = sklearn.ensemble.RandomForestClassifier(max_depth = 3)"
   ]
  },
  {
   "cell_type": "code",
   "execution_count": 121,
   "metadata": {
    "collapsed": false
   },
   "outputs": [
    {
     "data": {
      "text/plain": [
       "RandomForestClassifier(bootstrap=True, class_weight=None, criterion='gini',\n",
       "            max_depth=3, max_features='auto', max_leaf_nodes=None,\n",
       "            min_samples_leaf=1, min_samples_split=2,\n",
       "            min_weight_fraction_leaf=0.0, n_estimators=10, n_jobs=1,\n",
       "            oob_score=False, random_state=None, verbose=0,\n",
       "            warm_start=False)"
      ]
     },
     "execution_count": 121,
     "metadata": {},
     "output_type": "execute_result"
    }
   ],
   "source": [
    "model_rf.fit(X_train, y_train)"
   ]
  },
  {
   "cell_type": "code",
   "execution_count": 122,
   "metadata": {
    "collapsed": false
   },
   "outputs": [
    {
     "data": {
      "text/plain": [
       "0.7334630350194552"
      ]
     },
     "execution_count": 122,
     "metadata": {},
     "output_type": "execute_result"
    }
   ],
   "source": [
    "model_rf.score(X_test, y_test)"
   ]
  },
  {
   "cell_type": "code",
   "execution_count": 123,
   "metadata": {
    "collapsed": false
   },
   "outputs": [
    {
     "data": {
      "text/plain": [
       "(Index(['PERCAPITA_INCOME', 'DEATHS_DIRECT', 'EVENT_TYPE_Thunderstorm Wind',\n",
       "        'AVG_PRCP', 'DURATION', 'INJURIES_DIRECT', '% Minority', '% Rural',\n",
       "        'AVG_TEMP_EVENT', 'AVG_SNOW', 'EVENT_TYPE_Tornado',\n",
       "        'EVENT_TYPE_Flash Flood', 'EVENT_TYPE_Flood'],\n",
       "       dtype='object'),\n",
       " array([ 0.03390583,  0.00293127,  0.        ,  0.11561452,  0.22677039,\n",
       "         0.        ,  0.32647169,  0.02114106,  0.14459707,  0.00348131,\n",
       "         0.00891968,  0.0181989 ,  0.09796828]))"
      ]
     },
     "execution_count": 123,
     "metadata": {},
     "output_type": "execute_result"
    }
   ],
   "source": [
    "X_train.columns, model_rf.feature_importances_"
   ]
  },
  {
   "cell_type": "code",
   "execution_count": 124,
   "metadata": {
    "collapsed": false
   },
   "outputs": [
    {
     "data": {
      "image/png": "[encoded data removed]",
      "text/plain": [
       "<matplotlib.figure.Figure at 0x122d15b38>"
      ]
     },
     "metadata": {},
     "output_type": "display_data"
    }
   ],
   "source": [
    "rf_pred_mat = model_rf.predict_proba(X_test)\n",
    "rf_pred_vec = rf_pred_mat[:,1]\n",
    "rf_pr=pr_curve(y_test,rf_pred_vec);"
   ]
  },
  {
   "cell_type": "code",
   "execution_count": 125,
   "metadata": {
    "collapsed": false
   },
   "outputs": [
    {
     "data": {
      "text/plain": [
       "0.70534336419753085"
      ]
     },
     "execution_count": 125,
     "metadata": {},
     "output_type": "execute_result"
    }
   ],
   "source": [
    "roc_auc_score(y_test,rf_pred_vec)"
   ]
  },
  {
   "cell_type": "code",
   "execution_count": 126,
   "metadata": {
    "collapsed": false
   },
   "outputs": [
    {
     "data": {
      "text/plain": [
       "0.25925925925925924"
      ]
     },
     "execution_count": 126,
     "metadata": {},
     "output_type": "execute_result"
    }
   ],
   "source": [
    "recall_score(y_test, model_rf.predict(X_test))"
   ]
  },
  {
   "cell_type": "code",
   "execution_count": null,
   "metadata": {
    "collapsed": true
   },
   "outputs": [],
   "source": []
  },
  {
   "cell_type": "markdown",
   "metadata": {},
   "source": [
    "## Gradient Boosted Trees"
   ]
  },
  {
   "cell_type": "code",
   "execution_count": null,
   "metadata": {
    "collapsed": true
   },
   "outputs": [],
   "source": []
  },
  {
   "cell_type": "markdown",
   "metadata": {
    "collapsed": true
   },
   "source": [
    "### Finding best parameters for GBC using gridsearch"
   ]
  },
  {
   "cell_type": "code",
   "execution_count": 137,
   "metadata": {
    "collapsed": false
   },
   "outputs": [
    {
     "data": {
      "text/plain": [
       "GridSearchCV(cv=None, error_score='raise',\n",
       "       estimator=GradientBoostingClassifier(init=None, learning_rate=0.1, loss='deviance',\n",
       "              max_depth=3, max_features='sqrt', max_leaf_nodes=None,\n",
       "              min_samples_leaf=1, min_samples_split=2,\n",
       "              min_weight_fraction_leaf=0.0, n_estimators=50,\n",
       "              presort='auto', random_state=None, subsample=1.0, verbose=0,\n",
       "              warm_start=False),\n",
       "       fit_params={}, iid=True, n_jobs=1,\n",
       "       param_grid={'max_features': ['auto', 'sqrt', 'log2'], 'n_estimators': [100, 200, 300, 500]},\n",
       "       pre_dispatch='2*n_jobs', refit=True, scoring=None, verbose=0)"
      ]
     },
     "execution_count": 137,
     "metadata": {},
     "output_type": "execute_result"
    }
   ],
   "source": [
    "gbc = GradientBoostingClassifier(max_features= 'sqrt' ,n_estimators=50) \n",
    "\n",
    "param_grid = {\n",
    "    'n_estimators': [100, 200, 300, 500],\n",
    "    'max_features': ['auto', 'sqrt', 'log2']\n",
    "}\n",
    "\n",
    "CV_gbc = GridSearchCV(estimator=gbc, param_grid=param_grid)\n",
    "CV_gbc.fit(X_train, y_train)"
   ]
  },
  {
   "cell_type": "code",
   "execution_count": 138,
   "metadata": {
    "collapsed": false
   },
   "outputs": [
    {
     "data": {
      "text/plain": [
       "{'max_features': 'auto', 'n_estimators': 500}"
      ]
     },
     "execution_count": 138,
     "metadata": {},
     "output_type": "execute_result"
    }
   ],
   "source": [
    "CV_gbc.best_params_"
   ]
  },
  {
   "cell_type": "code",
   "execution_count": 139,
   "metadata": {
    "collapsed": false
   },
   "outputs": [
    {
     "data": {
      "text/plain": [
       "0.78947368421052633"
      ]
     },
     "execution_count": 139,
     "metadata": {},
     "output_type": "execute_result"
    }
   ],
   "source": [
    "CV_gbc.best_score_"
   ]
  },
  {
   "cell_type": "code",
   "execution_count": 140,
   "metadata": {
    "collapsed": false
   },
   "outputs": [
    {
     "data": {
      "text/plain": [
       "0.8132295719844358"
      ]
     },
     "execution_count": 140,
     "metadata": {},
     "output_type": "execute_result"
    }
   ],
   "source": [
    "CV_gbc.score(X_test, y_test)"
   ]
  },
  {
   "cell_type": "code",
   "execution_count": null,
   "metadata": {
    "collapsed": true
   },
   "outputs": [],
   "source": []
  },
  {
   "cell_type": "code",
   "execution_count": null,
   "metadata": {
    "collapsed": true
   },
   "outputs": [],
   "source": []
  },
  {
   "cell_type": "code",
   "execution_count": 127,
   "metadata": {
    "collapsed": true
   },
   "outputs": [],
   "source": [
    "model_gb = sklearn.ensemble.GradientBoostingClassifier(max_depth = 3, n_estimators = 500, max_features = 'auto')"
   ]
  },
  {
   "cell_type": "code",
   "execution_count": 128,
   "metadata": {
    "collapsed": false
   },
   "outputs": [
    {
     "data": {
      "text/plain": [
       "GradientBoostingClassifier(init=None, learning_rate=0.1, loss='deviance',\n",
       "              max_depth=3, max_features='auto', max_leaf_nodes=None,\n",
       "              min_samples_leaf=1, min_samples_split=2,\n",
       "              min_weight_fraction_leaf=0.0, n_estimators=500,\n",
       "              presort='auto', random_state=None, subsample=1.0, verbose=0,\n",
       "              warm_start=False)"
      ]
     },
     "execution_count": 128,
     "metadata": {},
     "output_type": "execute_result"
    }
   ],
   "source": [
    "model_gb.fit(X_train, y_train)"
   ]
  },
  {
   "cell_type": "code",
   "execution_count": 129,
   "metadata": {
    "collapsed": false
   },
   "outputs": [
    {
     "data": {
      "text/plain": [
       "0.99164578111946533"
      ]
     },
     "execution_count": 129,
     "metadata": {},
     "output_type": "execute_result"
    }
   ],
   "source": [
    "model_gb.score(X_train, y_train)"
   ]
  },
  {
   "cell_type": "code",
   "execution_count": 130,
   "metadata": {
    "collapsed": false
   },
   "outputs": [
    {
     "data": {
      "text/plain": [
       "0.8132295719844358"
      ]
     },
     "execution_count": 130,
     "metadata": {},
     "output_type": "execute_result"
    }
   ],
   "source": [
    "model_gb.score(X_test, y_test)"
   ]
  },
  {
   "cell_type": "code",
   "execution_count": 131,
   "metadata": {
    "collapsed": false
   },
   "outputs": [
    {
     "data": {
      "text/plain": [
       "Index(['PERCAPITA_INCOME', 'DEATHS_DIRECT', 'EVENT_TYPE_Thunderstorm Wind',\n",
       "       'AVG_PRCP', 'DURATION', 'INJURIES_DIRECT', '% Minority', '% Rural',\n",
       "       'AVG_TEMP_EVENT', 'AVG_SNOW', 'EVENT_TYPE_Tornado',\n",
       "       'EVENT_TYPE_Flash Flood', 'EVENT_TYPE_Flood'],\n",
       "      dtype='object')"
      ]
     },
     "execution_count": 131,
     "metadata": {},
     "output_type": "execute_result"
    }
   ],
   "source": [
    "X_train.columns"
   ]
  },
  {
   "cell_type": "code",
   "execution_count": 132,
   "metadata": {
    "collapsed": false
   },
   "outputs": [
    {
     "data": {
      "text/plain": [
       "array([ 0.26684928,  0.00860472,  0.02008751,  0.09660821,  0.03219131,\n",
       "        0.01123871,  0.17056155,  0.18514304,  0.15525536,  0.02922897,\n",
       "        0.00808606,  0.00805016,  0.00809512])"
      ]
     },
     "execution_count": 132,
     "metadata": {},
     "output_type": "execute_result"
    }
   ],
   "source": [
    "model_gb.feature_importances_"
   ]
  },
  {
   "cell_type": "code",
   "execution_count": 133,
   "metadata": {
    "collapsed": false
   },
   "outputs": [
    {
     "data": {
      "image/png": "[encoded data removed]",
      "text/plain": [
       "<matplotlib.figure.Figure at 0x11b60bef0>"
      ]
     },
     "metadata": {},
     "output_type": "display_data"
    }
   ],
   "source": [
    "gb_pred_mat = model_gb.predict_proba(X_test)\n",
    "gb_pred_vec = gb_pred_mat[:,1]\n",
    "gb_pr=pr_curve(y_test,gb_pred_vec);"
   ]
  },
  {
   "cell_type": "code",
   "execution_count": 134,
   "metadata": {
    "collapsed": false
   },
   "outputs": [
    {
     "data": {
      "text/plain": [
       "0.8555169753086419"
      ]
     },
     "execution_count": 134,
     "metadata": {},
     "output_type": "execute_result"
    }
   ],
   "source": [
    "roc_auc_score(y_test,gb_pred_vec)"
   ]
  },
  {
   "cell_type": "code",
   "execution_count": 135,
   "metadata": {
    "collapsed": false
   },
   "outputs": [
    {
     "data": {
      "text/plain": [
       "0.6728395061728395"
      ]
     },
     "execution_count": 135,
     "metadata": {},
     "output_type": "execute_result"
    }
   ],
   "source": [
    "recall_score(y_test, model_gb.predict(X_test))"
   ]
  },
  {
   "cell_type": "code",
   "execution_count": 136,
   "metadata": {
    "collapsed": false
   },
   "outputs": [
    {
     "data": {
      "image/png": "[encoded data removed]",
      "text/plain": [
       "<matplotlib.figure.Figure at 0x123a7cac8>"
      ]
     },
     "metadata": {},
     "output_type": "display_data"
    }
   ],
   "source": [
    "fpr, tpr, thresholds = sklearn.metrics.roc_curve(y_test,gb_pred_vec)\n",
    "plt.plot(fpr, tpr);\n",
    "plt.plot(fpr,fpr, 'r--');\n",
    "plt.xlabel(\"False Positive Rate (1 - Specificity)\");\n",
    "plt.ylabel(\"True Positive Rate (Sensitivity)\");"
   ]
  },
  {
   "cell_type": "code",
   "execution_count": null,
   "metadata": {
    "collapsed": true
   },
   "outputs": [],
   "source": []
  },
  {
   "cell_type": "markdown",
   "metadata": {
    "collapsed": true
   },
   "source": [
    "## Test on holdout data."
   ]
  },
  {
   "cell_type": "code",
   "execution_count": 141,
   "metadata": {
    "collapsed": false
   },
   "outputs": [
    {
     "data": {
      "text/plain": [
       "0.87083576855639977"
      ]
     },
     "execution_count": 141,
     "metadata": {},
     "output_type": "execute_result"
    }
   ],
   "source": [
    "CV_gbc.score(model_data_test_x, model_data_test_y)"
   ]
  },
  {
   "cell_type": "code",
   "execution_count": 142,
   "metadata": {
    "collapsed": false
   },
   "outputs": [
    {
     "data": {
      "image/png": "[encoded data removed]",
      "text/plain": [
       "<matplotlib.figure.Figure at 0x123a9c978>"
      ]
     },
     "metadata": {},
     "output_type": "display_data"
    }
   ],
   "source": [
    "gb_pred_mat_final = model_gb.predict_proba(model_data_test_x)\n",
    "gb_pred_vec_final = gb_pred_mat_final[:,1]\n",
    "gb_pr_final = pr_curve(model_data_test_y,gb_pred_vec_final);"
   ]
  },
  {
   "cell_type": "code",
   "execution_count": 380,
   "metadata": {
    "collapsed": true
   },
   "outputs": [],
   "source": [
    "from sklearn.metrics import precision_recall_curve"
   ]
  },
  {
   "cell_type": "code",
   "execution_count": 381,
   "metadata": {
    "collapsed": true
   },
   "outputs": [],
   "source": [
    "precision, recall, thresholds = precision_recall_curve(model_data_test_y, gb_pred_vec_final)"
   ]
  },
  {
   "cell_type": "code",
   "execution_count": 382,
   "metadata": {
    "collapsed": true
   },
   "outputs": [],
   "source": [
    "thresholds = np.append(thresholds, 1)"
   ]
  },
  {
   "cell_type": "code",
   "execution_count": 423,
   "metadata": {
    "collapsed": false
   },
   "outputs": [
    {
     "data": {
      "image/png": "[encoded data removed]",
      "text/plain": [
       "<matplotlib.figure.Figure at 0x1261d9908>"
      ]
     },
     "metadata": {},
     "output_type": "display_data"
    }
   ],
   "source": [
    "fig, ax = plt.subplots()\n",
    "\n",
    "ax.plot(thresholds, precision, color = sns.color_palette()[0], label = \"Precision\")\n",
    "ax.plot(thresholds, recall, color = sns.color_palette()[1], label = \"Recall\")\n",
    "ax.legend(loc = \"lower center\")\n",
    "ax.set_xlabel('Threshold', fontdict = {\"fontsize\": 14})\n",
    "ax.set_title('Recall and Precision vs. Threshold', fontdict = {\"fontsize\": 16})\n",
    "fig.set_size_inches(8,6);"
   ]
  },
  {
   "cell_type": "code",
   "execution_count": 143,
   "metadata": {
    "collapsed": false
   },
   "outputs": [
    {
     "data": {
      "text/plain": [
       "0.93336975897078189"
      ]
     },
     "execution_count": 143,
     "metadata": {},
     "output_type": "execute_result"
    }
   ],
   "source": [
    "roc_auc_score(model_data_test_y,gb_pred_vec_final)"
   ]
  },
  {
   "cell_type": "code",
   "execution_count": 144,
   "metadata": {
    "collapsed": false
   },
   "outputs": [
    {
     "data": {
      "text/plain": [
       "0.88770053475935828"
      ]
     },
     "execution_count": 144,
     "metadata": {},
     "output_type": "execute_result"
    }
   ],
   "source": [
    "recall_score(model_data_test_y, model_gb.predict(model_data_test_x))"
   ]
  },
  {
   "cell_type": "code",
   "execution_count": null,
   "metadata": {
    "collapsed": true
   },
   "outputs": [],
   "source": []
  },
  {
   "cell_type": "code",
   "execution_count": null,
   "metadata": {
    "collapsed": true
   },
   "outputs": [],
   "source": []
  },
  {
   "cell_type": "markdown",
   "metadata": {
    "collapsed": true
   },
   "source": [
    "## Comparing different models"
   ]
  },
  {
   "cell_type": "code",
   "execution_count": 377,
   "metadata": {
    "collapsed": false
   },
   "outputs": [
    {
     "data": {
      "image/png": "[encoded data removed]",
      "text/plain": [
       "<matplotlib.figure.Figure at 0x134954710>"
      ]
     },
     "metadata": {},
     "output_type": "display_data"
    }
   ],
   "source": [
    "fpr_final, tpr_final, thresholds_final = sklearn.metrics.roc_curve(model_data_test_y,gb_pred_vec_final)\n",
    "plt.plot(fpr_final, tpr_final, label = 'Gradient Boosting Trees - Final');\n",
    "plt.plot(fpr_final,fpr_final, 'r--');\n",
    "plt.xlabel(\"False Positive Rate (1 - Specificity)\");\n",
    "plt.ylabel(\"True Positive Rate (Sensitivity)\");\n",
    "\n",
    "fpr, tpr, thresholds = sklearn.metrics.roc_curve(y_test,gb_pred_vec)\n",
    "plt.plot(fpr, tpr, label = 'Gradient Boosting Trees - Training');\n",
    "# plt.plot(fpr,fpr, 'r--');\n",
    "plt.xlabel(\"False Positive Rate (1 - Specificity)\");\n",
    "plt.ylabel(\"True Positive Rate (Sensitivity)\");\n",
    "\n",
    "fpr_rf, tpr_rf, thresholds_rf = sklearn.metrics.roc_curve(y_test,rf_pred_vec)\n",
    "plt.plot(fpr_rf, tpr_rf, label = 'Random Forest');\n",
    "# plt.plot(fpr_rf,fpr_rf, 'r--');\n",
    "plt.xlabel(\"False Positive Rate (1 - Specificity)\");\n",
    "plt.ylabel(\"True Positive Rate (Sensitivity)\");\n",
    "\n",
    "\n",
    "fpr_lr, tpr_lr, thresholds_lr = sklearn.metrics.roc_curve(y_test,lr_pred_vec)\n",
    "plt.plot(fpr_lr, tpr_lr, label = 'Logit Reg');\n",
    "# plt.plot(fpr_rf,fpr_rf, 'r--');\n",
    "plt.xlabel(\"False Positive Rate (1 - Specificity)\");\n",
    "plt.ylabel(\"True Positive Rate (Sensitivity)\");\n",
    "\n",
    "\n",
    "plt.legend(loc = 'lower right')\n",
    "fig_size = plt.rcParams[\"figure.figsize\"]\n",
    "fig_size[0] = 8\n",
    "fig_size[1] = 10\n",
    "plt.rcParams[\"figure.figsize\"] = fig_size;"
   ]
  },
  {
   "cell_type": "code",
   "execution_count": null,
   "metadata": {
    "collapsed": true
   },
   "outputs": [],
   "source": []
  },
  {
   "cell_type": "markdown",
   "metadata": {},
   "source": [
    "## Exploring events that crossed counties, but only 1 county was declared a disaster"
   ]
  },
  {
   "cell_type": "code",
   "execution_count": 312,
   "metadata": {
    "collapsed": true
   },
   "outputs": [],
   "source": [
    "data_check_grouped = data_check.groupby(by = ['EPISODE_ID'])"
   ]
  },
  {
   "cell_type": "code",
   "execution_count": 315,
   "metadata": {
    "collapsed": false
   },
   "outputs": [],
   "source": [
    "df_diff = pd.DataFrame({'Values': data_check_grouped['FEMA_DECLARED'].value_counts()}).reset_index()"
   ]
  },
  {
   "cell_type": "code",
   "execution_count": 320,
   "metadata": {
    "collapsed": false
   },
   "outputs": [],
   "source": [
    "episodes = []\n",
    "for episode in df_diff[df_diff['EPISODE_ID'].duplicated()]['EPISODE_ID']:\n",
    "    episodes.append(episode)"
   ]
  },
  {
   "cell_type": "code",
   "execution_count": 324,
   "metadata": {
    "collapsed": false
   },
   "outputs": [],
   "source": [
    "data_withdiff = data_check[data_check['EPISODE_ID'].isin(episodes)]"
   ]
  },
  {
   "cell_type": "code",
   "execution_count": 333,
   "metadata": {
    "collapsed": false
   },
   "outputs": [
    {
     "data": {
      "text/plain": [
       "[71117, 71923, 71939, 72120, 72710, 72714, 72715, 72722, 72857, 72890]"
      ]
     },
     "execution_count": 333,
     "metadata": {},
     "output_type": "execute_result"
    }
   ],
   "source": [
    "episodes[:10]"
   ]
  },
  {
   "cell_type": "code",
   "execution_count": 492,
   "metadata": {
    "collapsed": false
   },
   "outputs": [
    {
     "data": {
      "text/html": [
       "<div>\n",
       "<table border=\"1\" class=\"dataframe\">\n",
       "  <thead>\n",
       "    <tr style=\"text-align: right;\">\n",
       "      <th></th>\n",
       "      <th>CZ_NAME</th>\n",
       "      <th>STATE</th>\n",
       "    </tr>\n",
       "  </thead>\n",
       "  <tbody>\n",
       "    <tr>\n",
       "      <th>46134</th>\n",
       "      <td>WHITESIDE</td>\n",
       "      <td>IL</td>\n",
       "    </tr>\n",
       "    <tr>\n",
       "      <th>46265</th>\n",
       "      <td>HENRY</td>\n",
       "      <td>IL</td>\n",
       "    </tr>\n",
       "  </tbody>\n",
       "</table>\n",
       "</div>"
      ],
      "text/plain": [
       "         CZ_NAME STATE\n",
       "46134  WHITESIDE    IL\n",
       "46265      HENRY    IL"
      ]
     },
     "execution_count": 492,
     "metadata": {},
     "output_type": "execute_result"
    }
   ],
   "source": [
    "data_withdiff[data_withdiff['EPISODE_ID'] == 72710][['CZ_NAME', 'STATE']]"
   ]
  },
  {
   "cell_type": "code",
   "execution_count": 449,
   "metadata": {
    "collapsed": true
   },
   "outputs": [
    {
     "data": {
      "text/html": [
       "<div>\n",
       "<table border=\"1\" class=\"dataframe\">\n",
       "  <thead>\n",
       "    <tr style=\"text-align: right;\">\n",
       "      <th></th>\n",
       "      <th></th>\n",
       "      <th>PERCAPITA_INCOME</th>\n",
       "      <th>% Minority</th>\n",
       "    </tr>\n",
       "    <tr>\n",
       "      <th>EPISODE_ID</th>\n",
       "      <th>FEMA_DECLARED</th>\n",
       "      <th></th>\n",
       "      <th></th>\n",
       "    </tr>\n",
       "  </thead>\n",
       "  <tbody>\n",
       "    <tr>\n",
       "      <th rowspan=\"2\" valign=\"top\">71117</th>\n",
       "      <th>0</th>\n",
       "      <td>38279.615385</td>\n",
       "      <td>32.161538</td>\n",
       "    </tr>\n",
       "    <tr>\n",
       "      <th>1</th>\n",
       "      <td>37345.000000</td>\n",
       "      <td>21.700000</td>\n",
       "    </tr>\n",
       "    <tr>\n",
       "      <th rowspan=\"2\" valign=\"top\">71923</th>\n",
       "      <th>0</th>\n",
       "      <td>46380.636364</td>\n",
       "      <td>9.809091</td>\n",
       "    </tr>\n",
       "    <tr>\n",
       "      <th>1</th>\n",
       "      <td>42192.500000</td>\n",
       "      <td>4.350000</td>\n",
       "    </tr>\n",
       "    <tr>\n",
       "      <th rowspan=\"2\" valign=\"top\">71939</th>\n",
       "      <th>0</th>\n",
       "      <td>47660.727273</td>\n",
       "      <td>10.909091</td>\n",
       "    </tr>\n",
       "    <tr>\n",
       "      <th>1</th>\n",
       "      <td>37408.000000</td>\n",
       "      <td>3.800000</td>\n",
       "    </tr>\n",
       "    <tr>\n",
       "      <th rowspan=\"2\" valign=\"top\">72120</th>\n",
       "      <th>0</th>\n",
       "      <td>41177.764706</td>\n",
       "      <td>8.741176</td>\n",
       "    </tr>\n",
       "    <tr>\n",
       "      <th>1</th>\n",
       "      <td>38519.857143</td>\n",
       "      <td>5.700000</td>\n",
       "    </tr>\n",
       "    <tr>\n",
       "      <th rowspan=\"2\" valign=\"top\">72710</th>\n",
       "      <th>0</th>\n",
       "      <td>42494.000000</td>\n",
       "      <td>9.000000</td>\n",
       "    </tr>\n",
       "    <tr>\n",
       "      <th>1</th>\n",
       "      <td>39040.000000</td>\n",
       "      <td>15.100000</td>\n",
       "    </tr>\n",
       "    <tr>\n",
       "      <th rowspan=\"2\" valign=\"top\">72714</th>\n",
       "      <th>0</th>\n",
       "      <td>44152.500000</td>\n",
       "      <td>7.400000</td>\n",
       "    </tr>\n",
       "    <tr>\n",
       "      <th>1</th>\n",
       "      <td>41364.200000</td>\n",
       "      <td>12.820000</td>\n",
       "    </tr>\n",
       "    <tr>\n",
       "      <th rowspan=\"2\" valign=\"top\">72715</th>\n",
       "      <th>0</th>\n",
       "      <td>41586.000000</td>\n",
       "      <td>5.550000</td>\n",
       "    </tr>\n",
       "    <tr>\n",
       "      <th>1</th>\n",
       "      <td>37993.750000</td>\n",
       "      <td>11.425000</td>\n",
       "    </tr>\n",
       "    <tr>\n",
       "      <th rowspan=\"2\" valign=\"top\">72722</th>\n",
       "      <th>0</th>\n",
       "      <td>45510.727273</td>\n",
       "      <td>24.681818</td>\n",
       "    </tr>\n",
       "    <tr>\n",
       "      <th>1</th>\n",
       "      <td>42463.250000</td>\n",
       "      <td>19.150000</td>\n",
       "    </tr>\n",
       "    <tr>\n",
       "      <th rowspan=\"2\" valign=\"top\">72857</th>\n",
       "      <th>0</th>\n",
       "      <td>45625.125000</td>\n",
       "      <td>17.937500</td>\n",
       "    </tr>\n",
       "    <tr>\n",
       "      <th>1</th>\n",
       "      <td>49322.000000</td>\n",
       "      <td>42.300000</td>\n",
       "    </tr>\n",
       "    <tr>\n",
       "      <th rowspan=\"2\" valign=\"top\">72890</th>\n",
       "      <th>0</th>\n",
       "      <td>48416.333333</td>\n",
       "      <td>6.266667</td>\n",
       "    </tr>\n",
       "    <tr>\n",
       "      <th>1</th>\n",
       "      <td>47705.000000</td>\n",
       "      <td>12.300000</td>\n",
       "    </tr>\n",
       "    <tr>\n",
       "      <th rowspan=\"2\" valign=\"top\">72937</th>\n",
       "      <th>0</th>\n",
       "      <td>54126.000000</td>\n",
       "      <td>4.900000</td>\n",
       "    </tr>\n",
       "    <tr>\n",
       "      <th>1</th>\n",
       "      <td>37722.000000</td>\n",
       "      <td>6.250000</td>\n",
       "    </tr>\n",
       "    <tr>\n",
       "      <th rowspan=\"2\" valign=\"top\">72957</th>\n",
       "      <th>0</th>\n",
       "      <td>47127.333333</td>\n",
       "      <td>4.866667</td>\n",
       "    </tr>\n",
       "    <tr>\n",
       "      <th>1</th>\n",
       "      <td>38985.000000</td>\n",
       "      <td>5.000000</td>\n",
       "    </tr>\n",
       "    <tr>\n",
       "      <th rowspan=\"2\" valign=\"top\">72967</th>\n",
       "      <th>0</th>\n",
       "      <td>45622.400000</td>\n",
       "      <td>7.626667</td>\n",
       "    </tr>\n",
       "    <tr>\n",
       "      <th>1</th>\n",
       "      <td>39625.000000</td>\n",
       "      <td>11.600000</td>\n",
       "    </tr>\n",
       "    <tr>\n",
       "      <th rowspan=\"2\" valign=\"top\">72997</th>\n",
       "      <th>0</th>\n",
       "      <td>47245.000000</td>\n",
       "      <td>9.771429</td>\n",
       "    </tr>\n",
       "    <tr>\n",
       "      <th>1</th>\n",
       "      <td>36894.500000</td>\n",
       "      <td>20.300000</td>\n",
       "    </tr>\n",
       "    <tr>\n",
       "      <th rowspan=\"2\" valign=\"top\">73021</th>\n",
       "      <th>0</th>\n",
       "      <td>31543.538462</td>\n",
       "      <td>18.115385</td>\n",
       "    </tr>\n",
       "    <tr>\n",
       "      <th>1</th>\n",
       "      <td>27022.000000</td>\n",
       "      <td>6.400000</td>\n",
       "    </tr>\n",
       "    <tr>\n",
       "      <th>...</th>\n",
       "      <th>...</th>\n",
       "      <td>...</td>\n",
       "      <td>...</td>\n",
       "    </tr>\n",
       "    <tr>\n",
       "      <th rowspan=\"2\" valign=\"top\">86996</th>\n",
       "      <th>0</th>\n",
       "      <td>49666.000000</td>\n",
       "      <td>11.500000</td>\n",
       "    </tr>\n",
       "    <tr>\n",
       "      <th>1</th>\n",
       "      <td>46689.500000</td>\n",
       "      <td>14.900000</td>\n",
       "    </tr>\n",
       "    <tr>\n",
       "      <th rowspan=\"2\" valign=\"top\">87169</th>\n",
       "      <th>0</th>\n",
       "      <td>44340.000000</td>\n",
       "      <td>6.150000</td>\n",
       "    </tr>\n",
       "    <tr>\n",
       "      <th>1</th>\n",
       "      <td>43077.000000</td>\n",
       "      <td>4.800000</td>\n",
       "    </tr>\n",
       "    <tr>\n",
       "      <th rowspan=\"2\" valign=\"top\">87216</th>\n",
       "      <th>0</th>\n",
       "      <td>55608.500000</td>\n",
       "      <td>6.250000</td>\n",
       "    </tr>\n",
       "    <tr>\n",
       "      <th>1</th>\n",
       "      <td>56024.000000</td>\n",
       "      <td>14.800000</td>\n",
       "    </tr>\n",
       "    <tr>\n",
       "      <th rowspan=\"2\" valign=\"top\">87344</th>\n",
       "      <th>0</th>\n",
       "      <td>28963.500000</td>\n",
       "      <td>28.750000</td>\n",
       "    </tr>\n",
       "    <tr>\n",
       "      <th>1</th>\n",
       "      <td>27774.000000</td>\n",
       "      <td>9.900000</td>\n",
       "    </tr>\n",
       "    <tr>\n",
       "      <th rowspan=\"2\" valign=\"top\">87357</th>\n",
       "      <th>0</th>\n",
       "      <td>45943.000000</td>\n",
       "      <td>12.000000</td>\n",
       "    </tr>\n",
       "    <tr>\n",
       "      <th>1</th>\n",
       "      <td>38410.000000</td>\n",
       "      <td>40.250000</td>\n",
       "    </tr>\n",
       "    <tr>\n",
       "      <th rowspan=\"2\" valign=\"top\">88005</th>\n",
       "      <th>0</th>\n",
       "      <td>77611.833333</td>\n",
       "      <td>12.433333</td>\n",
       "    </tr>\n",
       "    <tr>\n",
       "      <th>1</th>\n",
       "      <td>56024.000000</td>\n",
       "      <td>14.800000</td>\n",
       "    </tr>\n",
       "    <tr>\n",
       "      <th rowspan=\"2\" valign=\"top\">88022</th>\n",
       "      <th>0</th>\n",
       "      <td>29240.500000</td>\n",
       "      <td>5.825000</td>\n",
       "    </tr>\n",
       "    <tr>\n",
       "      <th>1</th>\n",
       "      <td>32506.000000</td>\n",
       "      <td>2.700000</td>\n",
       "    </tr>\n",
       "    <tr>\n",
       "      <th rowspan=\"2\" valign=\"top\">89158</th>\n",
       "      <th>0</th>\n",
       "      <td>36040.000000</td>\n",
       "      <td>14.500000</td>\n",
       "    </tr>\n",
       "    <tr>\n",
       "      <th>1</th>\n",
       "      <td>41614.000000</td>\n",
       "      <td>14.600000</td>\n",
       "    </tr>\n",
       "    <tr>\n",
       "      <th rowspan=\"2\" valign=\"top\">89481</th>\n",
       "      <th>0</th>\n",
       "      <td>47405.000000</td>\n",
       "      <td>2.700000</td>\n",
       "    </tr>\n",
       "    <tr>\n",
       "      <th>1</th>\n",
       "      <td>41614.000000</td>\n",
       "      <td>14.600000</td>\n",
       "    </tr>\n",
       "    <tr>\n",
       "      <th rowspan=\"2\" valign=\"top\">89490</th>\n",
       "      <th>0</th>\n",
       "      <td>44125.500000</td>\n",
       "      <td>24.100000</td>\n",
       "    </tr>\n",
       "    <tr>\n",
       "      <th>1</th>\n",
       "      <td>36844.000000</td>\n",
       "      <td>50.000000</td>\n",
       "    </tr>\n",
       "    <tr>\n",
       "      <th rowspan=\"2\" valign=\"top\">89491</th>\n",
       "      <th>0</th>\n",
       "      <td>36308.250000</td>\n",
       "      <td>21.550000</td>\n",
       "    </tr>\n",
       "    <tr>\n",
       "      <th>1</th>\n",
       "      <td>48301.500000</td>\n",
       "      <td>38.350000</td>\n",
       "    </tr>\n",
       "    <tr>\n",
       "      <th rowspan=\"2\" valign=\"top\">89594</th>\n",
       "      <th>0</th>\n",
       "      <td>35793.000000</td>\n",
       "      <td>8.775000</td>\n",
       "    </tr>\n",
       "    <tr>\n",
       "      <th>1</th>\n",
       "      <td>36844.000000</td>\n",
       "      <td>50.000000</td>\n",
       "    </tr>\n",
       "    <tr>\n",
       "      <th rowspan=\"2\" valign=\"top\">89598</th>\n",
       "      <th>0</th>\n",
       "      <td>41491.000000</td>\n",
       "      <td>17.840000</td>\n",
       "    </tr>\n",
       "    <tr>\n",
       "      <th>1</th>\n",
       "      <td>48301.500000</td>\n",
       "      <td>38.350000</td>\n",
       "    </tr>\n",
       "    <tr>\n",
       "      <th rowspan=\"2\" valign=\"top\">90329</th>\n",
       "      <th>0</th>\n",
       "      <td>45662.000000</td>\n",
       "      <td>12.100000</td>\n",
       "    </tr>\n",
       "    <tr>\n",
       "      <th>1</th>\n",
       "      <td>39963.500000</td>\n",
       "      <td>5.500000</td>\n",
       "    </tr>\n",
       "    <tr>\n",
       "      <th rowspan=\"2\" valign=\"top\">90554</th>\n",
       "      <th>0</th>\n",
       "      <td>37871.142857</td>\n",
       "      <td>6.300000</td>\n",
       "    </tr>\n",
       "    <tr>\n",
       "      <th>1</th>\n",
       "      <td>34311.666667</td>\n",
       "      <td>5.800000</td>\n",
       "    </tr>\n",
       "  </tbody>\n",
       "</table>\n",
       "<p>484 rows × 2 columns</p>\n",
       "</div>"
      ],
      "text/plain": [
       "                          PERCAPITA_INCOME  % Minority\n",
       "EPISODE_ID FEMA_DECLARED                              \n",
       "71117      0                  38279.615385   32.161538\n",
       "           1                  37345.000000   21.700000\n",
       "71923      0                  46380.636364    9.809091\n",
       "           1                  42192.500000    4.350000\n",
       "71939      0                  47660.727273   10.909091\n",
       "           1                  37408.000000    3.800000\n",
       "72120      0                  41177.764706    8.741176\n",
       "           1                  38519.857143    5.700000\n",
       "72710      0                  42494.000000    9.000000\n",
       "           1                  39040.000000   15.100000\n",
       "72714      0                  44152.500000    7.400000\n",
       "           1                  41364.200000   12.820000\n",
       "72715      0                  41586.000000    5.550000\n",
       "           1                  37993.750000   11.425000\n",
       "72722      0                  45510.727273   24.681818\n",
       "           1                  42463.250000   19.150000\n",
       "72857      0                  45625.125000   17.937500\n",
       "           1                  49322.000000   42.300000\n",
       "72890      0                  48416.333333    6.266667\n",
       "           1                  47705.000000   12.300000\n",
       "72937      0                  54126.000000    4.900000\n",
       "           1                  37722.000000    6.250000\n",
       "72957      0                  47127.333333    4.866667\n",
       "           1                  38985.000000    5.000000\n",
       "72967      0                  45622.400000    7.626667\n",
       "           1                  39625.000000   11.600000\n",
       "72997      0                  47245.000000    9.771429\n",
       "           1                  36894.500000   20.300000\n",
       "73021      0                  31543.538462   18.115385\n",
       "           1                  27022.000000    6.400000\n",
       "...                                    ...         ...\n",
       "86996      0                  49666.000000   11.500000\n",
       "           1                  46689.500000   14.900000\n",
       "87169      0                  44340.000000    6.150000\n",
       "           1                  43077.000000    4.800000\n",
       "87216      0                  55608.500000    6.250000\n",
       "           1                  56024.000000   14.800000\n",
       "87344      0                  28963.500000   28.750000\n",
       "           1                  27774.000000    9.900000\n",
       "87357      0                  45943.000000   12.000000\n",
       "           1                  38410.000000   40.250000\n",
       "88005      0                  77611.833333   12.433333\n",
       "           1                  56024.000000   14.800000\n",
       "88022      0                  29240.500000    5.825000\n",
       "           1                  32506.000000    2.700000\n",
       "89158      0                  36040.000000   14.500000\n",
       "           1                  41614.000000   14.600000\n",
       "89481      0                  47405.000000    2.700000\n",
       "           1                  41614.000000   14.600000\n",
       "89490      0                  44125.500000   24.100000\n",
       "           1                  36844.000000   50.000000\n",
       "89491      0                  36308.250000   21.550000\n",
       "           1                  48301.500000   38.350000\n",
       "89594      0                  35793.000000    8.775000\n",
       "           1                  36844.000000   50.000000\n",
       "89598      0                  41491.000000   17.840000\n",
       "           1                  48301.500000   38.350000\n",
       "90329      0                  45662.000000   12.100000\n",
       "           1                  39963.500000    5.500000\n",
       "90554      0                  37871.142857    6.300000\n",
       "           1                  34311.666667    5.800000\n",
       "\n",
       "[484 rows x 2 columns]"
      ]
     },
     "execution_count": 449,
     "metadata": {},
     "output_type": "execute_result"
    }
   ],
   "source": [
    "data_withdiff.groupby(by = ['EPISODE_ID', 'FEMA_DECLARED'])[['PERCAPITA_INCOME', '% Minority']].mean()"
   ]
  },
  {
   "cell_type": "code",
   "execution_count": 454,
   "metadata": {
    "collapsed": false
   },
   "outputs": [],
   "source": [
    "df_grouped_diff = pd.DataFrame({'MED_INCOME': data_withdiff.groupby(by = ['EPISODE_ID', 'FEMA_DECLARED'])['PERCAPITA_INCOME'].median(), 'MED_DIV': data_withdiff.groupby(by = ['EPISODE_ID', 'FEMA_DECLARED'])['% Minority'].median()}).reset_index()"
   ]
  },
  {
   "cell_type": "code",
   "execution_count": 483,
   "metadata": {
    "collapsed": true
   },
   "outputs": [],
   "source": [
    "df_grouped_diffshuffle = df_grouped_diff.iloc[np.random.permutation(len(df_grouped_diff))].reset_index()"
   ]
  },
  {
   "cell_type": "code",
   "execution_count": 455,
   "metadata": {
    "collapsed": false
   },
   "outputs": [
    {
     "data": {
      "text/html": [
       "<div>\n",
       "<table border=\"1\" class=\"dataframe\">\n",
       "  <thead>\n",
       "    <tr style=\"text-align: right;\">\n",
       "      <th></th>\n",
       "      <th>EPISODE_ID</th>\n",
       "      <th>FEMA_DECLARED</th>\n",
       "      <th>MED_DIV</th>\n",
       "      <th>MED_INCOME</th>\n",
       "    </tr>\n",
       "  </thead>\n",
       "  <tbody>\n",
       "    <tr>\n",
       "      <th>0</th>\n",
       "      <td>71117</td>\n",
       "      <td>0</td>\n",
       "      <td>33.60</td>\n",
       "      <td>37626.0</td>\n",
       "    </tr>\n",
       "    <tr>\n",
       "      <th>1</th>\n",
       "      <td>71117</td>\n",
       "      <td>1</td>\n",
       "      <td>21.70</td>\n",
       "      <td>37345.0</td>\n",
       "    </tr>\n",
       "    <tr>\n",
       "      <th>2</th>\n",
       "      <td>71923</td>\n",
       "      <td>0</td>\n",
       "      <td>5.90</td>\n",
       "      <td>46830.0</td>\n",
       "    </tr>\n",
       "    <tr>\n",
       "      <th>3</th>\n",
       "      <td>71923</td>\n",
       "      <td>1</td>\n",
       "      <td>4.35</td>\n",
       "      <td>42192.5</td>\n",
       "    </tr>\n",
       "    <tr>\n",
       "      <th>4</th>\n",
       "      <td>71939</td>\n",
       "      <td>0</td>\n",
       "      <td>8.40</td>\n",
       "      <td>47705.0</td>\n",
       "    </tr>\n",
       "    <tr>\n",
       "      <th>5</th>\n",
       "      <td>71939</td>\n",
       "      <td>1</td>\n",
       "      <td>3.80</td>\n",
       "      <td>37408.0</td>\n",
       "    </tr>\n",
       "    <tr>\n",
       "      <th>6</th>\n",
       "      <td>72120</td>\n",
       "      <td>0</td>\n",
       "      <td>5.70</td>\n",
       "      <td>41904.0</td>\n",
       "    </tr>\n",
       "    <tr>\n",
       "      <th>7</th>\n",
       "      <td>72120</td>\n",
       "      <td>1</td>\n",
       "      <td>4.80</td>\n",
       "      <td>37408.0</td>\n",
       "    </tr>\n",
       "    <tr>\n",
       "      <th>8</th>\n",
       "      <td>72710</td>\n",
       "      <td>0</td>\n",
       "      <td>9.00</td>\n",
       "      <td>42494.0</td>\n",
       "    </tr>\n",
       "    <tr>\n",
       "      <th>9</th>\n",
       "      <td>72710</td>\n",
       "      <td>1</td>\n",
       "      <td>15.10</td>\n",
       "      <td>39040.0</td>\n",
       "    </tr>\n",
       "  </tbody>\n",
       "</table>\n",
       "</div>"
      ],
      "text/plain": [
       "   EPISODE_ID  FEMA_DECLARED  MED_DIV  MED_INCOME\n",
       "0       71117              0    33.60     37626.0\n",
       "1       71117              1    21.70     37345.0\n",
       "2       71923              0     5.90     46830.0\n",
       "3       71923              1     4.35     42192.5\n",
       "4       71939              0     8.40     47705.0\n",
       "5       71939              1     3.80     37408.0\n",
       "6       72120              0     5.70     41904.0\n",
       "7       72120              1     4.80     37408.0\n",
       "8       72710              0     9.00     42494.0\n",
       "9       72710              1    15.10     39040.0"
      ]
     },
     "execution_count": 455,
     "metadata": {},
     "output_type": "execute_result"
    }
   ],
   "source": [
    "df_grouped_diff[:10].plot()"
   ]
  },
  {
   "cell_type": "code",
   "execution_count": 487,
   "metadata": {
    "collapsed": false
   },
   "outputs": [
    {
     "data": {
      "text/plain": [
       "<seaborn.axisgrid.FacetGrid at 0x13a196978>"
      ]
     },
     "execution_count": 487,
     "metadata": {},
     "output_type": "execute_result"
    },
    {
     "data": {
      "image/png": "[encoded data removed]",
      "text/plain": [
       "<matplotlib.figure.Figure at 0x139f2dcc0>"
      ]
     },
     "metadata": {},
     "output_type": "display_data"
    }
   ],
   "source": [
    "\n",
    "sns.factorplot(x=\"EPISODE_ID\", y=\"MED_INCOME\", hue=\"FEMA_DECLARED\", data= df_grouped_diff[:10],\n",
    "                   size=4, aspect = 1.2, kind=\"bar\", palette=\"muted\")"
   ]
  },
  {
   "cell_type": "code",
   "execution_count": 486,
   "metadata": {
    "collapsed": false
   },
   "outputs": [
    {
     "data": {
      "text/plain": [
       "<seaborn.axisgrid.FacetGrid at 0x13a0f2748>"
      ]
     },
     "execution_count": 486,
     "metadata": {},
     "output_type": "execute_result"
    },
    {
     "data": {
      "image/png": "[encoded data removed]",
      "text/plain": [
       "<matplotlib.figure.Figure at 0x139f2d4e0>"
      ]
     },
     "metadata": {},
     "output_type": "display_data"
    }
   ],
   "source": [
    "sns.factorplot(x=\"EPISODE_ID\", y=\"MED_DIV\", hue=\"FEMA_DECLARED\", data= df_grouped_diff[:10],\n",
    "                   size=4, aspect = 1.2, kind=\"bar\", palette=\"muted\")"
   ]
  },
  {
   "cell_type": "code",
   "execution_count": 482,
   "metadata": {
    "collapsed": false
   },
   "outputs": [
    {
     "data": {
      "text/plain": [
       "76.0"
      ]
     },
     "execution_count": 482,
     "metadata": {},
     "output_type": "execute_result"
    }
   ],
   "source": [
    "df_grouped_diff['MED_DIV'].max()"
   ]
  },
  {
   "cell_type": "code",
   "execution_count": null,
   "metadata": {
    "collapsed": true
   },
   "outputs": [],
   "source": []
  },
  {
   "cell_type": "code",
   "execution_count": null,
   "metadata": {
    "collapsed": true
   },
   "outputs": [],
   "source": []
  },
  {
   "cell_type": "code",
   "execution_count": 325,
   "metadata": {
    "collapsed": true
   },
   "outputs": [],
   "source": [
    "data_withdiff_fema = data_withdiff[data_withdiff['FEMA_DECLARED'] == 1]\n",
    "data_withdiff_norm = data_withdiff[data_withdiff['FEMA_DECLARED'] == 0]"
   ]
  },
  {
   "cell_type": "code",
   "execution_count": 434,
   "metadata": {
    "collapsed": false
   },
   "outputs": [
    {
     "data": {
      "text/plain": [
       "(37610.0, 37626.0)"
      ]
     },
     "execution_count": 434,
     "metadata": {},
     "output_type": "execute_result"
    }
   ],
   "source": [
    "data_withdiff_fema[data_withdiff_fema['EPISODE_ID'] == 85150]['PERCAPITA_INCOME'].median(), data_withdiff_norm[data_withdiff_norm['EPISODE_ID'] == 71117]['PERCAPITA_INCOME'].median(),"
   ]
  },
  {
   "cell_type": "code",
   "execution_count": 435,
   "metadata": {
    "collapsed": false
   },
   "outputs": [
    {
     "data": {
      "text/plain": [
       "(17.2, 29.9)"
      ]
     },
     "execution_count": 435,
     "metadata": {},
     "output_type": "execute_result"
    }
   ],
   "source": [
    "data_withdiff_fema[data_withdiff_fema['EPISODE_ID'] == 85150]['% Minority'].median(), data_withdiff_norm[data_withdiff_norm['EPISODE_ID'] == 85150]['% Minority'].median()"
   ]
  },
  {
   "cell_type": "code",
   "execution_count": 436,
   "metadata": {
    "collapsed": false
   },
   "outputs": [
    {
     "data": {
      "text/plain": [
       "(4.35, 5.9)"
      ]
     },
     "execution_count": 436,
     "metadata": {},
     "output_type": "execute_result"
    }
   ],
   "source": [
    "data_withdiff_fema[data_withdiff_fema['EPISODE_ID'] == 71923]['% Minority'].median(), data_withdiff_norm[data_withdiff_norm['EPISODE_ID'] == 71923]['% Minority'].median()"
   ]
  },
  {
   "cell_type": "code",
   "execution_count": 437,
   "metadata": {
    "collapsed": false
   },
   "outputs": [
    {
     "data": {
      "text/plain": [
       "(42192.5, 46830.0)"
      ]
     },
     "execution_count": 437,
     "metadata": {},
     "output_type": "execute_result"
    }
   ],
   "source": [
    "data_withdiff_fema[data_withdiff_fema['EPISODE_ID'] == 71923]['PERCAPITA_INCOME'].median(), data_withdiff_norm[data_withdiff_norm['EPISODE_ID'] == 71923]['PERCAPITA_INCOME'].median()"
   ]
  },
  {
   "cell_type": "code",
   "execution_count": 438,
   "metadata": {
    "collapsed": false
   },
   "outputs": [
    {
     "data": {
      "text/plain": [
       "(3.8, 8.4)"
      ]
     },
     "execution_count": 438,
     "metadata": {},
     "output_type": "execute_result"
    }
   ],
   "source": [
    "data_withdiff_fema[data_withdiff_fema['EPISODE_ID'] == 71939]['% Minority'].median(), data_withdiff_norm[data_withdiff_norm['EPISODE_ID'] == 71939]['% Minority'].median()"
   ]
  },
  {
   "cell_type": "code",
   "execution_count": 439,
   "metadata": {
    "collapsed": false
   },
   "outputs": [
    {
     "data": {
      "text/plain": [
       "(37408.0, 47705.0)"
      ]
     },
     "execution_count": 439,
     "metadata": {},
     "output_type": "execute_result"
    }
   ],
   "source": [
    "data_withdiff_fema[data_withdiff_fema['EPISODE_ID'] == 71939]['PERCAPITA_INCOME'].median(), data_withdiff_norm[data_withdiff_norm['EPISODE_ID'] == 71939]['PERCAPITA_INCOME'].median()"
   ]
  },
  {
   "cell_type": "code",
   "execution_count": 441,
   "metadata": {
    "collapsed": false,
    "scrolled": true
   },
   "outputs": [
    {
     "data": {
      "text/plain": [
       "41593    51715.0\n",
       "41688    55442.0\n",
       "41689    48115.0\n",
       "41810    48682.0\n",
       "41925    47031.0\n",
       "41933    51183.0\n",
       "41981    40165.0\n",
       "42041    44806.0\n",
       "42049    42728.0\n",
       "42164    46696.0\n",
       "42376    47705.0\n",
       "Name: PERCAPITA_INCOME, dtype: float64"
      ]
     },
     "execution_count": 441,
     "metadata": {},
     "output_type": "execute_result"
    }
   ],
   "source": [
    "data_withdiff_norm[data_withdiff_norm['EPISODE_ID'] == 71939]['PERCAPITA_INCOME']"
   ]
  }
 ],
 "metadata": {
  "anaconda-cloud": {},
  "kernelspec": {
   "display_name": "Python [Root]",
   "language": "python",
   "name": "Python [Root]"
  },
  "language_info": {
   "codemirror_mode": {
    "name": "ipython",
    "version": 3
   },
   "file_extension": ".py",
   "mimetype": "text/x-python",
   "name": "python",
   "nbconvert_exporter": "python",
   "pygments_lexer": "ipython3",
   "version": "3.5.1"
  }
 },
 "nbformat": 4,
 "nbformat_minor": 0
}
